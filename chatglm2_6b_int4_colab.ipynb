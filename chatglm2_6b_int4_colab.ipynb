{
  "cells": [
    {
      "cell_type": "code",
      "execution_count": null,
      "metadata": {
        "colab": {
          "background_save": true
        },
        "id": "ymKYHc_j16lF"
      },
      "outputs": [],
      "source": [
        "#@title Default title text\n",
        "%cd /content\n",
        "!git clone https://github.com/THUDM/ChatGLM2-6B\n",
        "!apt -y install -qq aria2\n",
        "\n",
        "# Download ChatGLM2-6B Models from Huggingface\n",
        "import os\n",
        "model_file_names = [\n",
        "\t'MODEL_LICENSE',\n",
        "\t'README.md',\n",
        "\t'config.json',\n",
        "\t'configuration_chatglm.py',\n",
        "\t'modeling_chatglm.py',\n",
        "\t'quantization.py',\n",
        "\t'tokenization_chatglm.py',\n",
        "\t'tokenizer_config.json',\n",
        "\t'pytorch_model.bin',\n",
        "\t'tokenizer.model'\n",
        "]\n",
        "import os\n",
        "for fname in model_file_names:\n",
        "  cmd = f\"aria2c --console-log-level=error -c -x 16 -s 16 -k 1M https://huggingface.co/THUDM/chatglm2-6b-int4/resolve/main/{fname} -d /content/ChatGLM2-6B/models -o {fname}\"\n",
        "  os.system(cmd)\n",
        "\n",
        "# Install dependencies\n",
        "%cd /content/ChatGLM2-6B\n",
        "!pip install -r requirements.txt\n",
        "!pip install gradio==3.39.0\n",
        "\n",
        "# Lanuch the web\n",
        "!sed -i \"s/THUDM\\/chatglm2-6b/\\/content\\/ChatGLM2-6B\\/models/g\" web_demo.py\n",
        "!sed -i \"s/demo.queue().launch(share=False, inbrowser=True)/demo.queue().launch(share=True, inbrowser=True)/g\" web_demo.py\n",
        "\n",
        "\n",
        "!python web_demo.py\n"
      ]
    }
  ],
  "metadata": {
    "accelerator": "GPU",
    "colab": {
      "toc_visible": true,
      "provenance": []
    },
    "kernelspec": {
      "display_name": "Python 3",
      "name": "python3"
    },
    "language_info": {
      "name": "python"
    }
  },
  "nbformat": 4,
  "nbformat_minor": 0
}
